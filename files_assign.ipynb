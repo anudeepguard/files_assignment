{
  "nbformat": 4,
  "nbformat_minor": 0,
  "metadata": {
    "colab": {
      "provenance": []
    },
    "kernelspec": {
      "name": "python3",
      "display_name": "Python 3"
    },
    "language_info": {
      "name": "python"
    }
  },
  "cells": [
    {
      "cell_type": "code",
      "source": [
        "#1.  How can you open a file for writing in Python and write a string to it?\n",
        "\n",
        "file = open(\"file.txt\", \"w\")\n",
        "file.write(\"example string\")\n",
        "file.close()"
      ],
      "metadata": {
        "id": "2j-7WUFTNVTB"
      },
      "execution_count": 1,
      "outputs": []
    },
    {
      "cell_type": "code",
      "source": [
        "#2.  Write a Python program to read the contents of a file and print each line?\n",
        "\n",
        "file = open(\"file.txt\", \"r\")\n",
        "print(file.read())"
      ],
      "metadata": {
        "colab": {
          "base_uri": "https://localhost:8080/"
        },
        "id": "av23Qf5bNYem",
        "outputId": "88421495-560b-42ec-a022-885a706ffc04"
      },
      "execution_count": 2,
      "outputs": [
        {
          "output_type": "stream",
          "name": "stdout",
          "text": [
            "example string\n"
          ]
        }
      ]
    },
    {
      "cell_type": "code",
      "source": [
        "#3.  How would you handle a case where the file doesn't exist while trying to open it for reading?\n",
        "\n",
        "try:\n",
        "  with open(\"file1.txt\", \"r\") as file:\n",
        "    file\n",
        "except Exception as e:\n",
        "  print(e)\n",
        "else:\n",
        "  print(file.read())"
      ],
      "metadata": {
        "colab": {
          "base_uri": "https://localhost:8080/"
        },
        "id": "1akm_LYhNe4b",
        "outputId": "0f6bdff1-fdcc-466b-cb24-63e35be01dba"
      },
      "execution_count": 3,
      "outputs": [
        {
          "output_type": "stream",
          "name": "stdout",
          "text": [
            "[Errno 2] No such file or directory: 'file1.txt'\n"
          ]
        }
      ]
    },
    {
      "cell_type": "code",
      "source": [
        "#4.  Write a Python script that reads from one file and writes its content to another file.\n",
        "\n",
        "file = open(\"file.txt\", \"w\")\n",
        "file.write(\"line of the first file.\")\n",
        "\n",
        "file = open(\"file.txt\", \"r\")\n",
        "read_file = file.read()\n",
        "\n",
        "def create_file(x):\n",
        "    file2 = open(\"newfile.txt\", \"w\")\n",
        "    file2.write(x)\n",
        "\n",
        "create_file(read_file)"
      ],
      "metadata": {
        "id": "xErakF1-NpzT"
      },
      "execution_count": 4,
      "outputs": []
    },
    {
      "cell_type": "code",
      "source": [
        "#5.  How would you catch and handle division by zero error in Python?\n",
        "\n",
        "try:\n",
        "  10/0\n",
        "except ZeroDivisionError as e:\n",
        "  print(\"there is a error =\",e)"
      ],
      "metadata": {
        "colab": {
          "base_uri": "https://localhost:8080/"
        },
        "id": "zaQxQz6ANtyy",
        "outputId": "67929f65-ec08-47d8-b517-ff84273e7bb2"
      },
      "execution_count": 5,
      "outputs": [
        {
          "output_type": "stream",
          "name": "stdout",
          "text": [
            "there is a error = division by zero\n"
          ]
        }
      ]
    },
    {
      "cell_type": "code",
      "source": [
        "#6.  Write a Python program that logs an error message to a log file when a division by zero exception occurs.\n",
        "\n",
        "import logging\n",
        "\n",
        "logging.basicConfig(filename= \"file1.log\")\n",
        "\n",
        "try:\n",
        "    10/0\n",
        "except Exception as e:\n",
        "    logging.error(f\"this is the error occours when running the code = {e}\")"
      ],
      "metadata": {
        "colab": {
          "base_uri": "https://localhost:8080/"
        },
        "id": "055T0IAnNx2I",
        "outputId": "dd970553-245b-453c-f0ba-a1899ff8eecd"
      },
      "execution_count": 6,
      "outputs": [
        {
          "output_type": "stream",
          "name": "stderr",
          "text": [
            "ERROR:root:this is the error occours when running the code = division by zero\n"
          ]
        }
      ]
    },
    {
      "cell_type": "code",
      "source": [
        "\n",
        "#7.  How do you log information at different levels (INFO, ERROR, WARNING) in Python using the logging module?\n",
        "from sre_constants import INFO\n",
        "import logging\n",
        "\n",
        "logging.basicConfig(filename = \"log_file.log\")\n",
        "\n",
        "logging.info(\"this is the information about the log file.\")\n",
        "logging.error(\"this is the error occurs when running the code.\")\n",
        "logging.warning(\"it's a warning to log file.\")"
      ],
      "metadata": {
        "colab": {
          "base_uri": "https://localhost:8080/"
        },
        "id": "rZORZp3MN1x4",
        "outputId": "5dc2aba6-c8ab-4fb3-b3db-aa1c1f706f02"
      },
      "execution_count": 9,
      "outputs": [
        {
          "output_type": "stream",
          "name": "stderr",
          "text": [
            "ERROR:root:this is the error occurs when running the code.\n",
            "WARNING:root:it's a warning to log file.\n"
          ]
        }
      ]
    },
    {
      "cell_type": "code",
      "source": [
        "#8.  Write a program to handle a file opening error using exception handling.\n",
        "\n",
        "try:\n",
        "    with open(\"file.txt\") as file:\n",
        "        file\n",
        "except Exception as e:\n",
        "    print(f\"error = {e}\")"
      ],
      "metadata": {
        "id": "n2lC-TvwN-8m"
      },
      "execution_count": 33,
      "outputs": []
    },
    {
      "cell_type": "code",
      "source": [
        "#9.  How can you read a file line by line and store its content in a list in Python?\n",
        "\n",
        "file = open(\"test_file.txt\",\"r\")\n",
        "\n",
        "file_list = []\n",
        "for i in range(3):\n",
        "    a = file.readline()\n",
        "    file_list.append(a)\n",
        "\n",
        "print(file_list)"
      ],
      "metadata": {
        "colab": {
          "base_uri": "https://localhost:8080/"
        },
        "id": "5ABE_e7aOFdb",
        "outputId": "354ed390-f421-4ee9-d1c8-4b7d447b6e7a"
      },
      "execution_count": 32,
      "outputs": [
        {
          "output_type": "stream",
          "name": "stdout",
          "text": [
            "['this is the fourth line.', '', '']\n"
          ]
        }
      ]
    },
    {
      "cell_type": "code",
      "source": [
        "#10  How can you append data to an existing file in Python?\n",
        "\n",
        "file = open(\"test_file.txt\", \"a\")\n",
        "\n",
        "file.write(\"this is the fourth line.\")\n",
        "file.close()"
      ],
      "metadata": {
        "id": "WqCQBvghOSD4"
      },
      "execution_count": 13,
      "outputs": []
    },
    {
      "cell_type": "code",
      "source": [
        "#11. Write a Python program that uses a try-except block to handle an error when attempting to access a\n",
        "# dictionary key that doesn't exist.\n",
        "\n",
        "new_dict = {\"key1\" : 123, \"key2\" : 456}\n",
        "\n",
        "try:\n",
        "    print(new_dict[\"key3\"])\n",
        "\n",
        "except Exception as e:\n",
        "    print(f\"there is a error {e}\")"
      ],
      "metadata": {
        "colab": {
          "base_uri": "https://localhost:8080/"
        },
        "id": "elhCrX-UO0LL",
        "outputId": "c84b3d79-38e7-4b0c-8895-6b48332db737"
      },
      "execution_count": 14,
      "outputs": [
        {
          "output_type": "stream",
          "name": "stdout",
          "text": [
            "there is a error 'key3'\n"
          ]
        }
      ]
    },
    {
      "cell_type": "code",
      "source": [
        "#12.  Write a program that demonstrates using multiple except blocks to handle different types of exceptions.\n",
        "\n",
        "new_dict = {\"key1\" : 123, \"key2\" : 456}\n",
        "\n",
        "try:\n",
        "    print(new_dict[\"key3\"])\n",
        "\n",
        "except ZeroDivisionError as e:\n",
        "    print(f\"there is a error {e}\")\n",
        "\n",
        "except KeyError as e:\n",
        "    print(f\"there is a error {e}\")"
      ],
      "metadata": {
        "colab": {
          "base_uri": "https://localhost:8080/"
        },
        "id": "6759wA5JO5WG",
        "outputId": "5c43770b-f422-4bf2-e8b2-37015b65eb0c"
      },
      "execution_count": 15,
      "outputs": [
        {
          "output_type": "stream",
          "name": "stdout",
          "text": [
            "there is a error 'key3'\n"
          ]
        }
      ]
    },
    {
      "cell_type": "code",
      "source": [
        "#13.  How would you check if a file exists before attempting to read it in Python?\n",
        "\n",
        "from pathlib import Path\n",
        "\n",
        "print(Path(\"file.txt\").exists())"
      ],
      "metadata": {
        "colab": {
          "base_uri": "https://localhost:8080/"
        },
        "id": "IALzQ3wdO8k2",
        "outputId": "0aec1f56-034c-47ae-add3-79a170d4ce57"
      },
      "execution_count": 16,
      "outputs": [
        {
          "output_type": "stream",
          "name": "stdout",
          "text": [
            "True\n"
          ]
        }
      ]
    },
    {
      "cell_type": "code",
      "source": [
        "#14.  Write a program that uses the logging module to log both informational and error messages.\n",
        "\n",
        "import logging\n",
        "\n",
        "import logging\n",
        "\n",
        "logging.basicConfig(filename = \"file.log\", level = logging.INFO)\n",
        "\n",
        "logging.info(\"this is the information about log file.\")\n",
        "logging.error(\"error occcurs when running the file.\")"
      ],
      "metadata": {
        "colab": {
          "base_uri": "https://localhost:8080/"
        },
        "id": "aXMGLDVXPAft",
        "outputId": "922d3355-7666-4232-ad23-ab4225a3cc68"
      },
      "execution_count": 17,
      "outputs": [
        {
          "output_type": "stream",
          "name": "stderr",
          "text": [
            "ERROR:root:error occcurs when running the file.\n"
          ]
        }
      ]
    },
    {
      "cell_type": "code",
      "source": [
        "#15.  Write a Python program that prints the content of a file and handles the case when the file is empty.\n",
        "\n",
        "try:\n",
        "  file = open(\"test.txt\", \"r\")\n",
        "  print(file.read())\n",
        "except Exception as e :\n",
        "  print(f\"error = {e}\")"
      ],
      "metadata": {
        "colab": {
          "base_uri": "https://localhost:8080/"
        },
        "id": "KF7vvyxuPDa6",
        "outputId": "ab4fe92b-2d49-4ac1-e43a-162a5e854fd3"
      },
      "execution_count": 18,
      "outputs": [
        {
          "output_type": "stream",
          "name": "stdout",
          "text": [
            "error = [Errno 2] No such file or directory: 'test.txt'\n"
          ]
        }
      ]
    },
    {
      "cell_type": "code",
      "source": [
        "#16.  Demonstrate how to use memory profiling to check the memory usage of a small program.\n",
        "\n",
        "from memory_profiler import profile\n",
        "\n",
        "@ profile\n",
        "\n",
        "def my_func():\n",
        "    x = [x for x in range(0, 100)]\n",
        "    y = [y*100 for y in range(0, 150)]\n",
        "    del x\n",
        "    return y\n",
        "\n",
        "if __name__ == '__main__':\n",
        "    my_func()"
      ],
      "metadata": {
        "colab": {
          "base_uri": "https://localhost:8080/",
          "height": 383
        },
        "id": "gLC036MbPGax",
        "outputId": "5ae90ae1-3025-4e21-bf78-2fc076ae2023"
      },
      "execution_count": 35,
      "outputs": [
        {
          "output_type": "error",
          "ename": "ModuleNotFoundError",
          "evalue": "No module named 'memory_profiler'",
          "traceback": [
            "\u001b[0;31m---------------------------------------------------------------------------\u001b[0m",
            "\u001b[0;31mModuleNotFoundError\u001b[0m                       Traceback (most recent call last)",
            "\u001b[0;32m<ipython-input-35-fbef719fda8a>\u001b[0m in \u001b[0;36m<cell line: 3>\u001b[0;34m()\u001b[0m\n\u001b[1;32m      1\u001b[0m \u001b[0;31m#16.  Demonstrate how to use memory profiling to check the memory usage of a small program.\u001b[0m\u001b[0;34m\u001b[0m\u001b[0;34m\u001b[0m\u001b[0m\n\u001b[1;32m      2\u001b[0m \u001b[0;34m\u001b[0m\u001b[0m\n\u001b[0;32m----> 3\u001b[0;31m \u001b[0;32mfrom\u001b[0m \u001b[0mmemory_profiler\u001b[0m \u001b[0;32mimport\u001b[0m \u001b[0mprofile\u001b[0m\u001b[0;34m\u001b[0m\u001b[0;34m\u001b[0m\u001b[0m\n\u001b[0m\u001b[1;32m      4\u001b[0m \u001b[0;34m\u001b[0m\u001b[0m\n\u001b[1;32m      5\u001b[0m \u001b[0;34m@\u001b[0m \u001b[0mprofile\u001b[0m\u001b[0;34m\u001b[0m\u001b[0;34m\u001b[0m\u001b[0m\n",
            "\u001b[0;31mModuleNotFoundError\u001b[0m: No module named 'memory_profiler'",
            "",
            "\u001b[0;31m---------------------------------------------------------------------------\u001b[0;32m\nNOTE: If your import is failing due to a missing package, you can\nmanually install dependencies using either !pip or !apt.\n\nTo view examples of installing some common dependencies, click the\n\"Open Examples\" button below.\n\u001b[0;31m---------------------------------------------------------------------------\u001b[0m\n"
          ],
          "errorDetails": {
            "actions": [
              {
                "action": "open_url",
                "actionText": "Open Examples",
                "url": "/notebooks/snippets/importing_libraries.ipynb"
              }
            ]
          }
        }
      ]
    },
    {
      "cell_type": "code",
      "source": [
        "#17.  Write a Python program to create and write a list of numbers to a file, one number per line.\n",
        "\n",
        "list = [1, 2, 3, 4, 5]\n",
        "with open(\"list_file.txt\", \"w\") as file:\n",
        "    for i in list:\n",
        "        file.write(f\"{i}\\n\")"
      ],
      "metadata": {
        "id": "_6sXsxIqPLPp"
      },
      "execution_count": 36,
      "outputs": []
    },
    {
      "cell_type": "code",
      "source": [
        "#18.  How would you implement a basic logging setup that logs to a file with rotation after 1MB?\n",
        "\n",
        "import logging\n",
        "import time\n",
        "\n",
        "from logging.handlers import RotatingFileHandler\n",
        "\n",
        "def create_rotating_handler(Path):\n",
        "    logger = logging.getLogger(\"Rotating Log\")\n",
        "    logger.setLevel(logging.INFO)\n",
        "\n",
        "    handler = RotatingFileHandler(Path, maxBytes = 1)\n",
        "    logger.addHandler(handler)\n",
        "\n",
        "    for i in range(10):\n",
        "        logger.info(\"this is test log line %s\" %i)\n",
        "        time.sleep(1)\n",
        "\n",
        "if __name__ == \"__main__\":\n",
        "    log_file = \"test_log\"\n",
        "    create_rotating_handler(log_file)"
      ],
      "metadata": {
        "colab": {
          "base_uri": "https://localhost:8080/"
        },
        "id": "UnlnGJBlPQuY",
        "outputId": "f7cc7327-2cc8-4337-addb-6ca7158f7805"
      },
      "execution_count": 21,
      "outputs": [
        {
          "output_type": "stream",
          "name": "stderr",
          "text": [
            "INFO:Rotating Log:this is test log line 0\n",
            "INFO:Rotating Log:this is test log line 1\n",
            "INFO:Rotating Log:this is test log line 2\n",
            "INFO:Rotating Log:this is test log line 3\n",
            "INFO:Rotating Log:this is test log line 4\n",
            "INFO:Rotating Log:this is test log line 5\n",
            "INFO:Rotating Log:this is test log line 6\n",
            "INFO:Rotating Log:this is test log line 7\n",
            "INFO:Rotating Log:this is test log line 8\n",
            "INFO:Rotating Log:this is test log line 9\n"
          ]
        }
      ]
    },
    {
      "cell_type": "code",
      "source": [
        "#19.  Write a program that handles both IndexError and KeyError using a try-except block.\n",
        "\n",
        "new_list = [1, 2, 3, 4, 5]\n",
        "new_dict = {\"key1\" : 1, \"key2\" : 2, \"key3\" : 3}\n",
        "\n",
        "try:\n",
        "    print(new_list[5])\n",
        "\n",
        "except IndexError as i:\n",
        "    print(f\"there is error = {i}\")\n",
        "\n",
        "try:\n",
        "    print(new_dict[\"key4\"])\n",
        "except KeyError as k:\n",
        "    print(f\"there is error = {k}\")"
      ],
      "metadata": {
        "colab": {
          "base_uri": "https://localhost:8080/"
        },
        "id": "NMws5MgdPTo1",
        "outputId": "5a38e00e-f0d0-490e-f414-4c9585ca26ee"
      },
      "execution_count": 22,
      "outputs": [
        {
          "output_type": "stream",
          "name": "stdout",
          "text": [
            "there is error = list index out of range\n",
            "there is error = 'key4'\n"
          ]
        }
      ]
    },
    {
      "cell_type": "code",
      "source": [
        "#20.  How would you open a file and read its contents using a context manager in Python?\n",
        "\n",
        "file = open(\"file.txt\", \"r\")\n",
        "file.read()"
      ],
      "metadata": {
        "colab": {
          "base_uri": "https://localhost:8080/",
          "height": 36
        },
        "id": "h88EI3s2PXba",
        "outputId": "63f85fac-bc8a-424d-b041-4a6187497416"
      },
      "execution_count": 23,
      "outputs": [
        {
          "output_type": "execute_result",
          "data": {
            "text/plain": [
              "'line of the first file.'"
            ],
            "application/vnd.google.colaboratory.intrinsic+json": {
              "type": "string"
            }
          },
          "metadata": {},
          "execution_count": 23
        }
      ]
    },
    {
      "cell_type": "code",
      "source": [
        "#21.  Write a Python program that reads a file and prints the number of occurrences of a specific word.\n",
        "\n",
        "file = open(\"test_file.txt\", \"r\")\n",
        "\n",
        "a = file.read()\n",
        "print(a.count(\"line\"))"
      ],
      "metadata": {
        "colab": {
          "base_uri": "https://localhost:8080/"
        },
        "id": "5tr_VVOYPbLs",
        "outputId": "b99c2012-209e-4166-94a1-f787c443ca63"
      },
      "execution_count": 37,
      "outputs": [
        {
          "output_type": "stream",
          "name": "stdout",
          "text": [
            "1\n"
          ]
        }
      ]
    },
    {
      "cell_type": "code",
      "source": [
        "#22.  How can you check if a file is empty before attempting to read its contents?\n",
        "\n",
        "from pathlib import Path\n",
        "\n",
        "print(Path(\"file.txt\").exists())"
      ],
      "metadata": {
        "colab": {
          "base_uri": "https://localhost:8080/"
        },
        "id": "7RZf1Z9PPdY8",
        "outputId": "151e9f9a-0570-4f28-ef69-b0d671d4255c"
      },
      "execution_count": 30,
      "outputs": [
        {
          "output_type": "stream",
          "name": "stdout",
          "text": [
            "True\n"
          ]
        }
      ]
    },
    {
      "cell_type": "code",
      "source": [
        "#23.  Write a Python program that writes to a log file when an error occurs during file handling.\n",
        "\n",
        "import logging\n",
        "\n",
        "logging.basicConfig(filename = \"file.log\")\n",
        "\n",
        "try:\n",
        "    with open(\"file.txt\", \"r\") as file:\n",
        "        file\n",
        "except Exception as e:\n",
        "    logging.error(f\"error is {e}\")"
      ],
      "metadata": {
        "id": "sK2mvXwYPhve"
      },
      "execution_count": 38,
      "outputs": []
    },
    {
      "cell_type": "code",
      "source": [],
      "metadata": {
        "id": "PC6hgnKoPksc"
      },
      "execution_count": null,
      "outputs": []
    }
  ]
}